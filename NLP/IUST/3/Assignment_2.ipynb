{
  "cells": [
    {
      "cell_type": "markdown",
      "metadata": {
        "id": "oqyKAoGCJTb4"
      },
      "source": [
        "# **Word analogy task**\n",
        "\n",
        "Welcome to your second assignment of this series!\n",
        "\n",
        "Because word embeddings are very computionally expensive to train, most ML practitioners will load a pre-trained set of embeddings.\n",
        "\n",
        "**After this assignment you will be able to:**\n",
        "\n",
        "- Load pre-trained word vectors, and measure similarity using cosine similarity\n",
        "- Use word embeddings to solve word analogy problems such as Man is to Woman as King is to ______.\n",
        "- Modify word embeddings to reduce their gender bias (optional)\n",
        "\n",
        "Let's get started! Run the following cell to load the packages you will need."
      ]
    },
    {
      "cell_type": "code",
      "source": [
        "# # if u got import errors in google colab run this cell for fix!\n",
        "# !pip install numpy==1.24.3\n",
        "# import os\n",
        "\n",
        "# os.kill(os.getpid(), 9)  # Restart the runtime to apply changes"
      ],
      "metadata": {
        "collapsed": true,
        "id": "hNeYigMEQruC",
        "colab": {
          "base_uri": "https://localhost:8080/"
        },
        "outputId": "59af1b99-63f8-4482-a15a-3ae794a6ac34"
      },
      "execution_count": null,
      "outputs": [
        {
          "output_type": "stream",
          "name": "stdout",
          "text": [
            "Requirement already satisfied: numpy==1.24.3 in /usr/local/lib/python3.11/dist-packages (1.24.3)\n"
          ]
        }
      ]
    },
    {
      "cell_type": "code",
      "source": [
        "# !pip install gensim huggingface_hub"
      ],
      "metadata": {
        "id": "kbMn_yy4Ovzq",
        "collapsed": true
      },
      "execution_count": null,
      "outputs": []
    },
    {
      "cell_type": "code",
      "execution_count": null,
      "metadata": {
        "id": "z7zb0mWcJTb6"
      },
      "outputs": [],
      "source": [
        "import numpy as np\n",
        "from gensim.models import KeyedVectors\n",
        "from huggingface_hub import hf_hub_download"
      ]
    },
    {
      "cell_type": "markdown",
      "metadata": {
        "id": "otFmfEUYJTb8"
      },
      "source": [
        "Next, lets load the word vectors. For this assignment, we will use 300-dimensional word vectors trained on approximately 100 billion words from the Google News dataset to represent words. (u can use also 50-dimensional GloVe or etc...)\n",
        "\n",
        "in the following cell, load the model from hugging face hub:\n",
        "https://huggingface.co/fse/word2vec-google-news-300/tree/main"
      ]
    },
    {
      "cell_type": "code",
      "source": [
        "model_path = hf_hub_download(\n",
        "    repo_id=\"fse/word2vec-google-news-300\",\n",
        "    filename=\"word2vec-google-news-300.model\"\n",
        ")\n",
        "\n",
        "from gensim.models import KeyedVectors\n",
        "\n",
        "# Load the binary Word2Vec file\n",
        "word_vectors = KeyedVectors.load(model_path)\n",
        "\n",
        "\n",
        "# Create a dictionary mapping words to their vectors\n",
        "word_to_vec_map = {word: word_vectors[word] for word in word_vectors.index_to_key}\n"
      ],
      "metadata": {
        "id": "6MTdX65qRKFb"
      },
      "execution_count": null,
      "outputs": []
    },
    {
      "cell_type": "code",
      "execution_count": null,
      "metadata": {
        "id": "qTXizW1EJTb-",
        "colab": {
          "base_uri": "https://localhost:8080/"
        },
        "outputId": "23f2d7f8-7819-4023-c24e-1abc906528db"
      },
      "outputs": [
        {
          "output_type": "stream",
          "name": "stdout",
          "text": [
            "Sample words:\n",
            "</s>\n",
            "in\n",
            "for\n",
            "that\n",
            "is\n",
            "on\n",
            "##\n",
            "The\n",
            "with\n",
            "said\n"
          ]
        }
      ],
      "source": [
        "# Show 10 words from the vocabulary\n",
        "print(\"Sample words:\")\n",
        "for i in range(10):\n",
        "    print(word_vectors.index_to_key[i])\n"
      ]
    },
    {
      "cell_type": "code",
      "execution_count": null,
      "metadata": {
        "id": "k9ezAbNFJTb-",
        "colab": {
          "base_uri": "https://localhost:8080/"
        },
        "outputId": "2b2910a9-4ea5-44fd-f8ca-b73b3643f9c9"
      },
      "outputs": [
        {
          "output_type": "stream",
          "name": "stdout",
          "text": [
            "\n",
            "Sample word vectors:\n",
            "</s> : [ 0.00112915 -0.00089645  0.00031853  0.00153351  0.00110626]... (len=300)\n",
            "in : [0.0703125  0.08691406 0.08789062 0.0625     0.06933594]... (len=300)\n",
            "for : [-0.01177979 -0.04736328  0.04467773  0.06347656 -0.01818848]... (len=300)\n",
            "that : [-0.01574707 -0.02832031  0.08349609  0.05029297 -0.11035156]... (len=300)\n",
            "is : [ 0.00704956 -0.07324219  0.171875    0.02258301 -0.1328125 ]... (len=300)\n",
            "on : [ 0.0267334  -0.09082031  0.02783203  0.20410156  0.00622559]... (len=300)\n",
            "## : [ 0.16894531 -0.06298828 -0.00026512  0.06347656  0.08740234]... (len=300)\n",
            "The : [-0.17285156  0.27929688  0.10693359 -0.15820312 -0.08447266]... (len=300)\n",
            "with : [-0.02490234  0.02197266 -0.03540039  0.13671875  0.01635742]... (len=300)\n",
            "said : [-0.00909424 -0.04418945  0.09960938 -0.07617188 -0.05664062]... (len=300)\n"
          ]
        }
      ],
      "source": [
        "# Show 10 word vectors and their lengths\n",
        "print(\"\\nSample word vectors:\")\n",
        "count = 0\n",
        "for word in word_to_vec_map:\n",
        "    if count >= 10:\n",
        "        break\n",
        "    vector = word_to_vec_map[word]\n",
        "    print(f\"{word} : {vector[:5]}... (len={len(vector)})\")  # show only first 5 numbers for brevity\n",
        "    count += 1"
      ]
    },
    {
      "cell_type": "markdown",
      "metadata": {
        "id": "3lTekEdWJTb_"
      },
      "source": [
        "You've loaded:\n",
        "- `words`: set of words in the vocabulary.\n",
        "- `word_to_vec_map`: dictionary mapping words to their google news vector representation.\n",
        "\n",
        "__You've seen that one-hot vectors do not do a good job capturing what words are similar__. google news or GloVe vectors provide much more useful information about the meaning of individual words. Lets now see how you can use these vectors to decide how similar two words are.\n",
        "\n"
      ]
    },
    {
      "cell_type": "markdown",
      "metadata": {
        "id": "FX4hTNrEJTb_"
      },
      "source": [
        "# 1 - Cosine similarity\n",
        "\n",
        "To measure how similar two words are, we need a way to measure the degree of similarity between two embedding vectors for the two words. Given two vectors $u$ and $v$, cosine similarity is defined as follows:\n",
        "\n",
        "$$\\text{CosineSimilarity(u, v)} = \\frac {u . v} {||u||_2 ||v||_2} = cos(\\theta) \\tag{1}$$\n",
        "\n",
        "where $u.v$ is the dot product (or inner product) of two vectors, $||u||_2$ is the norm (or length) of the vector $u$, and $\\theta$ is the angle between $u$ and $v$. This similarity depends on the angle between $u$ and $v$. If $u$ and $v$ are very similar, their cosine similarity will be close to 1; if they are dissimilar, the cosine similarity will take a smaller value.\n",
        "\n",
        "<img src=\"https://github.com/Gurubux/DL_Coursera/blob/master/5_Sequence_Models/5_2_NLP_and_WordEmbedding/images/cosine_sim.png?raw=1\" style=\"width:800px;height:250px;\">\n",
        "<caption><center> **Figure 1**: The cosine of the angle between two vectors is a measure of how similar they are</center></caption>\n",
        "\n",
        "**Exercise**: Implement the function `cosine_similarity()` to evaluate similarity between word vectors.\n",
        "\n",
        "**Reminder**: The norm of $u$ is defined as $ ||u||_2 = \\sqrt{\\sum_{i=1}^{n} u_i^2}$"
      ]
    },
    {
      "cell_type": "code",
      "execution_count": null,
      "metadata": {
        "collapsed": true,
        "id": "-FhuNH-5JTb_"
      },
      "outputs": [],
      "source": [
        "import math\n",
        "# def cosine_similarity(u, v):\n",
        "#     \"\"\"\n",
        "#     Cosine similarity reflects the degree of similariy between u and v\n",
        "\n",
        "#     Arguments:\n",
        "#         u -- a word vector of shape (n,)\n",
        "#         v -- a word vector of shape (n,)\n",
        "\n",
        "#     Returns:\n",
        "#         cosine_similarity -- the cosine similarity between u and v defined by the formula above.\n",
        "#     \"\"\"\n",
        "\n",
        "#     distance = 0.0\n",
        "\n",
        "#     ### START CODE HERE ###\n",
        "#     sumxx, sumxy, sumyy = 0, 0, 0\n",
        "#     for i in range(len(u)):\n",
        "#       x = u[i]\n",
        "#       y = v[i]\n",
        "#       sumxx += x*x\n",
        "#       sumyy += y*y\n",
        "#       sumxy += x*y\n",
        "#     cosine_similarity = sumxy/math.sqrt(sumxx*sumyy)\n",
        "    ### END CODE HERE ###\n",
        "# I change because is not to fast for compute\n",
        "def cosine_similarity(u, v):\n",
        "    \"\"\"\n",
        "    Cosine similarity reflects the degree of similarity between u and v\n",
        "\n",
        "    Arguments:\n",
        "        u -- a word vector of shape (n,)\n",
        "        v -- a word vector of shape (n,)\n",
        "\n",
        "    Returns:\n",
        "        cosine_similarity -- the cosine similarity between u and v defined by the formula above.\n",
        "    \"\"\"\n",
        "\n",
        "    distance = 0.0\n",
        "    dot = np.dot(u, v)\n",
        "    norm_u = np.linalg.norm(u)\n",
        "    norm_v = np.linalg.norm(v)\n",
        "\n",
        "    cosine_similarity = dot / (norm_u * norm_v)\n",
        "\n",
        "    return cosine_similarity\n",
        "    return cosine_similarity"
      ]
    },
    {
      "cell_type": "code",
      "execution_count": null,
      "metadata": {
        "id": "9RPEUwf9JTcA",
        "colab": {
          "base_uri": "https://localhost:8080/"
        },
        "outputId": "4f23858a-1b58-401e-e3ce-992ce4cfaa41"
      },
      "outputs": [
        {
          "output_type": "stream",
          "name": "stdout",
          "text": [
            "cosine_similarity(father, mother) =  0.79014826\n",
            "cosine_similarity(ball, crocodile) =  0.10283584\n",
            "cosine_similarity(big - bigger, small - smaller) =  0.57522017\n"
          ]
        }
      ],
      "source": [
        "father = word_to_vec_map[\"father\"]\n",
        "mother = word_to_vec_map[\"mother\"]\n",
        "ball = word_to_vec_map[\"ball\"]\n",
        "crocodile = word_to_vec_map[\"crocodile\"]\n",
        "big = word_to_vec_map[\"big\"]\n",
        "bigger = word_to_vec_map[\"bigger\"]\n",
        "small = word_to_vec_map[\"small\"]\n",
        "smaller = word_to_vec_map[\"smaller\"]\n",
        "\n",
        "print(\"cosine_similarity(father, mother) = \", cosine_similarity(father, mother))\n",
        "print(\"cosine_similarity(ball, crocodile) = \",cosine_similarity(ball, crocodile))\n",
        "print(\"cosine_similarity(big - bigger, small - smaller) = \",cosine_similarity(big - bigger, small - smaller))"
      ]
    },
    {
      "cell_type": "markdown",
      "metadata": {
        "id": "X4GB1OiWJTcA"
      },
      "source": [
        "**Expected Output**:\n",
        "\n",
        "<table>\n",
        "    <tr>\n",
        "        <td>\n",
        "            **cosine_similarity(father, mother)** =\n",
        "        </td>\n",
        "        <td>\n",
        "         0.79014826 (a high number)\n",
        "        </td>\n",
        "    </tr>\n",
        "        <tr>\n",
        "        <td>\n",
        "            **cosine_similarity(ball, crocodile)** =\n",
        "        </td>\n",
        "        <td>\n",
        "         0.10283584 (a small number)\n",
        "        </td>\n",
        "    </tr>\n",
        "        <tr>\n",
        "        <td>\n",
        "            **cosine_similarity(big - bigger, small - smaller)** =\n",
        "        </td>\n",
        "        <td>\n",
        "         -0.6030071 (high negative number)\n",
        "        </td>\n",
        "    </tr>\n",
        "</table>"
      ]
    },
    {
      "cell_type": "markdown",
      "metadata": {
        "id": "TdgVXd82JTcB"
      },
      "source": [
        "After you get the correct expected output, please feel free to modify the inputs and measure the cosine similarity between other pairs of words! Playing around the cosine similarity of other inputs will give you a better sense of how word vectors behave."
      ]
    },
    {
      "cell_type": "markdown",
      "metadata": {
        "id": "J6ODfQe7JTcB"
      },
      "source": [
        "## 2 - Word analogy task\n",
        "\n",
        "In the word analogy task, we complete the sentence <font color='brown'>\"*a* is to *b* as *c* is to **____**\"</font>. An example is <font color='brown'> '*man* is to *woman* as *king* is to *queen*' </font>. In detail, we are trying to find a word *d*, such that the associated word vectors $e_a, e_b, e_c, e_d$ are related in the following manner: $e_b - e_a \\approx e_d - e_c$. We will measure the similarity between $e_b - e_a$ and $e_d - e_c$ using cosine similarity.\n",
        "\n",
        "**Exercise**: Complete the code below to be able to perform word analogies!"
      ]
    },
    {
      "cell_type": "code",
      "execution_count": null,
      "metadata": {
        "collapsed": true,
        "id": "FbpePpPtJTcB"
      },
      "outputs": [],
      "source": [
        "# GRADED FUNCTION: complete_analogy\n",
        "\n",
        "def complete_analogy(word_a, word_b, word_c, word_to_vec_map):\n",
        "    \"\"\"\n",
        "    Performs the word analogy task as explained above: a is to b as c is to ____.\n",
        "\n",
        "    Arguments:\n",
        "    word_a -- a word, string\n",
        "    word_b -- a word, string\n",
        "    word_c -- a word, string\n",
        "    word_to_vec_map -- dictionary that maps words to their corresponding vectors.\n",
        "\n",
        "    Returns:\n",
        "    best_word --  the word such that v_b - v_a is close to v_best_word - v_c, as measured by cosine similarity\n",
        "    \"\"\"\n",
        "\n",
        "    # convert words to lower case\n",
        "    word_a, word_b, word_c = word_a.lower(), word_b.lower(), word_c.lower()\n",
        "\n",
        "    ### START CODE HERE ###\n",
        "    # Get the word embeddings e_a, e_b and e_c (≈1-3 lines)\n",
        "    e_a, e_b, e_c = word_to_vec_map[word_a],word_to_vec_map[word_b],word_to_vec_map[word_c]\n",
        "    ### END CODE HERE ###\n",
        "\n",
        "    words = word_to_vec_map.keys()\n",
        "    max_cosine_sim = -100              # Initialize max_cosine_sim to a large negative number\n",
        "    best_word = None                   # Initialize best_word with None, it will help keep track of the word to output\n",
        "\n",
        "    # loop over the whole word vector set\n",
        "    for w in words:\n",
        "        # to avoid best_word being one of the input words, pass on them.\n",
        "        if w in [word_a, word_b, word_c] :\n",
        "            continue\n",
        "\n",
        "        ### START CODE HERE ###\n",
        "        # Compute cosine similarity between the vector (e_b - e_a) and the vector ((w's vector representation) - e_c)  (≈1 line)\n",
        "        # e_ba = e_b - e_a\n",
        "        x = cosine_similarity(e_b - e_a,word_to_vec_map[w] - e_c)\n",
        "        #e_d = e_c + e_ba\n",
        "        # If the cosine_sim is more than the max_cosine_sim seen so far,\n",
        "        # then: set the new max_cosine_sim to the current cosine_sim and the best_word to the current word (≈3 lines)\n",
        "        if x > max_cosine_sim:\n",
        "          max_cosine_sim = x\n",
        "          best_word = w\n",
        "        ### END CODE HERE ###\n",
        "\n",
        "    return best_word"
      ]
    },
    {
      "cell_type": "markdown",
      "metadata": {
        "id": "ejCL_yaIJTcC"
      },
      "source": [
        "Run the cell below to test your code, this may take few minutes."
      ]
    },
    {
      "cell_type": "code",
      "execution_count": null,
      "metadata": {
        "id": "ftytZzXWJTcC",
        "colab": {
          "base_uri": "https://localhost:8080/"
        },
        "outputId": "0957efed-1443-446a-c976-83e7caad3484"
      },
      "outputs": [
        {
          "output_type": "stream",
          "name": "stdout",
          "text": [
            "france -> paris :: germany -> plaster\n",
            "man -> woman :: boy -> girl\n",
            "small -> smaller :: large -> larger\n",
            "walk -> walking :: swim -> swimming\n",
            "he -> him :: she -> her\n",
            "bad -> worse :: good -> better\n"
          ]
        }
      ],
      "source": [
        "triads_to_try = [('france', 'paris', 'germany'), ('man', 'woman', 'boy'), ('small', 'smaller', 'large'),\n",
        "                 ('walk', 'walking', 'swim'), ('he', 'him', 'she'),('bad', 'worse', 'good')]\n",
        "for triad in triads_to_try:\n",
        "    print ('{} -> {} :: {} -> {}'.format( *triad, complete_analogy(*triad,word_to_vec_map)))"
      ]
    },
    {
      "cell_type": "markdown",
      "metadata": {
        "id": "iVEO-pUAJTcC"
      },
      "source": [
        "**Expected Output**:\n",
        "\n",
        "<table>\n",
        "    <tr>\n",
        "        <td>\n",
        "            **france -> paris** ::\n",
        "        </td>\n",
        "        <td>\n",
        "         germany -> berlin\n",
        "        </td>\n",
        "        <tr>\n",
        "        <td>\n",
        "            **man -> woman ** ::\n",
        "        </td>\n",
        "        <td>\n",
        "         boy -> girl\n",
        "        </td>\n",
        "    </tr>\n",
        "    <tr>\n",
        "        <td>\n",
        "            **small -> smaller ** ::\n",
        "        </td>\n",
        "        <td>\n",
        "         large -> larger\n",
        "        </td>\n",
        "    </tr>\n",
        "        <td>\n",
        "            **walk -> walking ** ::\n",
        "        </td>\n",
        "        <td>\n",
        "         swim -> swimming\n",
        "        </td>\n",
        "    </tr>\n",
        "    <tr>\n",
        "        <td>\n",
        "            **he -> him ** ::\n",
        "        </td>\n",
        "        <td>\n",
        "         she -> her\n",
        "        </td>\n",
        "    </tr>\n",
        "    <tr>\n",
        "        <td>\n",
        "            **bad -> worse ** ::\n",
        "        </td>\n",
        "        <td>\n",
        "         good -> better\n",
        "        </td>\n",
        "    </tr>\n",
        "</table>"
      ]
    },
    {
      "cell_type": "code",
      "execution_count": null,
      "metadata": {
        "id": "LGi788uDJTcC",
        "colab": {
          "base_uri": "https://localhost:8080/"
        },
        "outputId": "c324f6c9-060b-470d-ce0d-a1f0b3def23c"
      },
      "outputs": [
        {
          "output_type": "stream",
          "name": "stdout",
          "text": [
            "king -> queen :: man -> woman\n"
          ]
        }
      ],
      "source": [
        "triads_to_try = [('king', 'queen', 'man'), ]\n",
        "for triad in triads_to_try:\n",
        "    print ('{} -> {} :: {} -> {}'.format( *triad, complete_analogy(*triad,word_to_vec_map)))"
      ]
    },
    {
      "cell_type": "markdown",
      "source": [
        "**Expected Output**:\n",
        "\n",
        "<table>\n",
        "    <tr>\n",
        "        <td>\n",
        "            king -> queen ::\n",
        "        </td>\n",
        "        <td>\n",
        "            man -> woman\n",
        "        </td>\n",
        "        <tr>\n",
        "</table>"
      ],
      "metadata": {
        "id": "hHTOg7Gbym1y"
      }
    },
    {
      "cell_type": "markdown",
      "metadata": {
        "id": "JhopnCxbJTcC"
      },
      "source": [
        "Once you get the correct expected output, please feel free to modify the input cells above to test your own analogies. Try to find some other analogy pairs that do work, but also find some where the algorithm doesn't give the right answer"
      ]
    },
    {
      "cell_type": "markdown",
      "metadata": {
        "id": "sP6hjt83JTcD"
      },
      "source": [
        "### Congratulations!\n",
        "\n",
        "You've come to the end of this assignment. Here are the main points you should remember:\n",
        "\n",
        "- Cosine similarity a good way to compare similarity between pairs of word vectors. (Though L2 distance works too.)\n",
        "- For NLP applications, using a pre-trained set of word vectors from the internet is often a good way to get started.\n",
        "\n",
        "Even though you have finished the graded portions, we recommend you take a look too at the rest of this notebook.\n",
        "\n",
        "Congratulations on finishing the graded portions of this notebook!\n"
      ]
    },
    {
      "cell_type": "markdown",
      "metadata": {
        "id": "ZagIO0ixJTcD"
      },
      "source": [
        "## 3 - Debiasing word vectors (OPTIONAL/UNGRADED)"
      ]
    },
    {
      "cell_type": "markdown",
      "metadata": {
        "id": "cwZArBo4JTcD"
      },
      "source": [
        "In the following exercise, you will examine gender biases that can be reflected in a word embedding, and explore algorithms for reducing the bias. In addition to learning about the topic of debiasing, this exercise will also help hone your intuition about what word vectors are doing. This section involves a bit of linear algebra, though you can probably complete it even without being expert in linear algebra, and we encourage you to give it a shot. This portion of the notebook is optional and is not graded.\n",
        "\n",
        "Lets first see how the GloVe word embeddings relate to gender. You will first compute a vector $g = e_{woman}-e_{man}$, where $e_{woman}$ represents the word vector corresponding to the word *woman*, and $e_{man}$ corresponds to the word vector corresponding to the word *man*. The resulting vector $g$ roughly encodes the concept of \"gender\". (You might get a more accurate representation if you compute $g_1 = e_{mother}-e_{father}$, $g_2 = e_{girl}-e_{boy}$, etc. and average over them. But just using $e_{woman}-e_{man}$ will give good enough results for now.)\n"
      ]
    },
    {
      "cell_type": "code",
      "execution_count": null,
      "metadata": {
        "id": "3o0A1AreJTcD",
        "outputId": "2f9ca500-d7d5-428f-f7ed-b7fee756d2f2",
        "colab": {
          "base_uri": "https://localhost:8080/"
        }
      },
      "outputs": [
        {
          "output_type": "stream",
          "name": "stdout",
          "text": [
            "[-8.30078125e-02 -2.08007812e-01 -1.37695312e-01 -2.44140625e-02\n",
            "  2.83203125e-02 -6.61621094e-02  8.39843750e-02  1.87377930e-02\n",
            " -3.17382812e-02  4.66384888e-02 -1.25976562e-01 -9.37500000e-02\n",
            "  2.09960938e-02  2.63671875e-02  7.49511719e-02  5.34667969e-02\n",
            " -8.98437500e-02 -1.12792969e-01  3.27148438e-02  7.00683594e-02\n",
            "  1.01806641e-01 -4.93927002e-02 -8.12988281e-02 -1.36718750e-01\n",
            " -5.38330078e-02 -4.10156250e-02 -9.27734375e-02  3.90625000e-03\n",
            " -2.53906250e-02 -1.66503906e-01 -1.85546875e-02 -1.42944336e-01\n",
            " -1.61621094e-01 -8.48388672e-02 -1.95312500e-02 -1.30859375e-01\n",
            "  5.85937500e-02  7.81250000e-02 -1.67480469e-01 -1.21093750e-01\n",
            " -1.88720703e-01  1.04980469e-02 -5.37109375e-02 -1.61743164e-02\n",
            " -9.27734375e-02  4.49218750e-02  0.00000000e+00  2.49023438e-02\n",
            "  2.11181641e-02  1.14257812e-01  1.86279297e-01 -1.23390198e-01\n",
            " -2.44140625e-04  2.22167969e-01 -1.58691406e-01  1.31835938e-02\n",
            " -1.46484375e-02 -2.68554688e-02  1.22070312e-01  2.62451172e-02\n",
            "  1.24023438e-01 -1.30859375e-01 -2.19726562e-03  1.09375000e-01\n",
            " -4.95605469e-02  8.69140625e-02  1.29150391e-01  2.83203125e-01\n",
            "  7.66601562e-02 -4.76074219e-02  9.81445312e-02  7.22656250e-02\n",
            "  3.90625000e-02  6.83593750e-02  9.37500000e-02  1.09375000e-01\n",
            "  3.39355469e-02  3.49121094e-02  1.76025391e-01  2.15087891e-01\n",
            " -5.37109375e-02 -1.17187500e-02  5.34667969e-02  8.25195312e-02\n",
            " -3.62792969e-01  1.61132812e-01  1.02539062e-01  1.04614258e-01\n",
            "  5.17578125e-02  2.28271484e-02 -1.10351562e-01 -1.86767578e-01\n",
            " -6.23779297e-02  2.57568359e-02  1.17187500e-02  4.16564941e-02\n",
            "  1.98486328e-01 -4.73632812e-02  1.11816406e-01  1.32446289e-01\n",
            " -5.37109375e-02 -1.39648438e-01 -1.13281250e-01 -1.00585938e-01\n",
            " -6.15234375e-02  1.85546875e-02 -1.29882812e-01 -1.92800522e-01\n",
            "  5.78613281e-02 -2.14843750e-02 -5.82885742e-02 -1.46484375e-03\n",
            "  1.68579102e-01  9.16748047e-02 -1.52603149e-01 -1.30981445e-01\n",
            " -4.88281250e-04 -8.95996094e-02  4.92248535e-02  6.05468750e-02\n",
            " -3.41796875e-03  3.52172852e-02  6.34765625e-02  5.27343750e-02\n",
            "  1.24023438e-01  2.26562500e-01  2.92968750e-02  4.40673828e-02\n",
            "  5.76171875e-02  1.27197266e-01  9.76562500e-04 -7.03125000e-02\n",
            " -9.03320312e-02  6.25610352e-02  1.18164062e-01  9.93041992e-02\n",
            "  1.31835938e-02 -2.48779297e-01  2.92968750e-02 -1.67968750e-01\n",
            " -1.17187500e-02 -1.78222656e-01 -3.95507812e-02  3.80859375e-02\n",
            " -9.17968750e-02  9.96093750e-02 -3.85742188e-02  2.27539062e-01\n",
            " -9.08203125e-02 -2.10327148e-01  1.44531250e-01  2.05078125e-02\n",
            "  1.94335938e-01 -1.00097656e-01  7.73925781e-02 -5.66406250e-02\n",
            " -1.16943359e-01  4.25720215e-02 -1.46484375e-02  6.93359375e-02\n",
            " -2.34375000e-02 -1.12304688e-02  1.07421875e-01  1.18652344e-01\n",
            " -7.03125000e-02  4.05273438e-02 -9.32617188e-02 -1.13281250e-01\n",
            " -2.90527344e-02  3.31726074e-02 -1.27929688e-01 -4.88281250e-03\n",
            "  3.02734375e-02  1.26953125e-02 -2.44140625e-02 -1.40380859e-01\n",
            "  1.96533203e-01  1.30371094e-01 -2.44140625e-02  1.26464844e-01\n",
            " -1.04492188e-01 -3.92761230e-02 -1.64916992e-01 -1.01562500e-01\n",
            "  1.56250000e-02  2.24609375e-02 -5.76171875e-02  9.17968750e-02\n",
            " -1.92382812e-01  4.56542969e-02  1.26495361e-02 -2.73437500e-02\n",
            "  2.92968750e-02  5.17578125e-02  1.19506836e-01  1.84082031e-01\n",
            " -4.88281250e-03  1.12304688e-02  8.20312500e-02  9.15527344e-02\n",
            " -8.49609375e-02  5.85937500e-03 -2.53906250e-02 -4.29687500e-02\n",
            " -1.18652344e-01  1.85546875e-02 -5.27343750e-02  5.41992188e-02\n",
            "  1.62841797e-01 -1.54296875e-01  4.24804688e-02  5.15136719e-02\n",
            " -5.59082031e-02 -9.00878906e-02  9.76562500e-02  4.88281250e-02\n",
            " -2.02636719e-02  1.24511719e-01  1.64062500e-01  4.00390625e-02\n",
            " -8.54492188e-03  1.56494141e-01  1.36718750e-02  9.83886719e-02\n",
            " -6.64062500e-02 -2.20825195e-01 -1.75781250e-02 -1.90429688e-02\n",
            " -3.02734375e-02  5.59692383e-02 -1.63574219e-02  4.98046875e-02\n",
            " -1.88476562e-01  9.76562500e-03  2.44140625e-03 -3.46679688e-02\n",
            " -2.73437500e-02 -4.21524048e-02 -4.15649414e-02  1.23779297e-01\n",
            "  6.05468750e-02 -1.71997070e-01  1.46484375e-01 -1.85546875e-02\n",
            "  1.39038086e-01  1.02539062e-01 -2.96020508e-02  3.28979492e-02\n",
            " -1.15234375e-01 -4.95605469e-02  6.83593750e-02  4.63867188e-03\n",
            "  4.00390625e-02 -1.72607422e-01 -3.02734375e-02 -4.15039062e-02\n",
            "  4.47998047e-02 -6.25000000e-02  5.32226562e-02 -7.92236328e-02\n",
            " -6.54296875e-02  2.78320312e-02 -5.07812500e-02 -1.26953125e-02\n",
            "  5.46875000e-02 -2.73437500e-02 -1.44042969e-02 -5.85937500e-03\n",
            " -1.36718750e-02  2.09960938e-02  4.29687500e-02  1.43676758e-01\n",
            " -1.49658203e-01  1.26464844e-01 -1.45263672e-02 -9.37500000e-02\n",
            "  3.71093750e-02  1.80664062e-02  6.10351562e-02  4.39453125e-03\n",
            "  7.42187500e-02 -2.49023438e-02 -4.76074219e-02 -6.83593750e-02\n",
            " -5.24902344e-02  4.99877930e-02 -3.41796875e-02 -5.27343750e-02\n",
            " -7.10182190e-02  2.54882812e-01 -5.17578125e-02 -3.51562500e-02\n",
            " -6.54296875e-02 -1.17187500e-01  2.78320312e-02  1.71875000e-01\n",
            "  2.02148438e-01  2.19726562e-01  1.45507812e-01 -5.04150391e-02]\n"
          ]
        }
      ],
      "source": [
        "g = word_to_vec_map['woman'] - word_to_vec_map['man']\n",
        "print(g)"
      ]
    },
    {
      "cell_type": "markdown",
      "metadata": {
        "id": "H44nUcWiJTcD"
      },
      "source": [
        "Now, you will consider the cosine similarity of different words with $g$. Consider what a positive value of similarity means vs a negative cosine similarity."
      ]
    },
    {
      "cell_type": "code",
      "execution_count": null,
      "metadata": {
        "scrolled": false,
        "id": "QNU2eqavJTcD",
        "outputId": "19e15708-389b-418f-99a0-b06c87f0c1a1",
        "colab": {
          "base_uri": "https://localhost:8080/"
        }
      },
      "outputs": [
        {
          "output_type": "stream",
          "name": "stdout",
          "text": [
            "List of names and their similarities with constructed vector:\n",
            "john -0.031435035\n",
            "marie 0.17699817\n",
            "sophie 0.1283398\n",
            "ronaldo -0.09830637\n",
            "priya 0.09364403\n",
            "rahul -0.036300182\n",
            "danielle 0.10128634\n",
            "reza -0.05665493\n",
            "katy 0.096326664\n",
            "yasmin 0.19511874\n"
          ]
        }
      ],
      "source": [
        "print ('List of names and their similarities with constructed vector:')\n",
        "\n",
        "# girls and boys name\n",
        "name_list = ['john', 'marie', 'sophie', 'ronaldo', 'priya', 'rahul', 'danielle', 'reza', 'katy', 'yasmin']\n",
        "\n",
        "for w in name_list:\n",
        "    print (w, cosine_similarity(word_to_vec_map[w], g))"
      ]
    },
    {
      "cell_type": "markdown",
      "metadata": {
        "id": "kf4YfKxxJTcE"
      },
      "source": [
        "As you can see, female first names tend to have a positive cosine similarity with our constructed vector $g$, while male first names tend to have a negative cosine similarity. This is not suprising, and the result seems acceptable.\n",
        "\n",
        "But let's try with some other words."
      ]
    },
    {
      "cell_type": "code",
      "execution_count": null,
      "metadata": {
        "id": "2VQQpNqIJTcE",
        "outputId": "3bf8b2ed-a965-43c7-a8e0-888a039279da",
        "colab": {
          "base_uri": "https://localhost:8080/"
        }
      },
      "outputs": [
        {
          "output_type": "stream",
          "name": "stdout",
          "text": [
            "Other words and their similarities:\n",
            "lipstick 0.26272777\n",
            "guns -0.1291088\n",
            "science 0.038018905\n",
            "arts 0.13724278\n",
            "literature 0.18530813\n",
            "warrior -0.09518411\n",
            "doctor 0.16264017\n",
            "tree 0.06318173\n",
            "receptionist 0.3256916\n",
            "technology 0.06544881\n",
            "fashion 0.16653468\n",
            "teacher 0.14762522\n",
            "engineer -0.057295308\n",
            "pilot 0.036814734\n",
            "computer 0.09310092\n",
            "singer 0.1540533\n"
          ]
        }
      ],
      "source": [
        "print('Other words and their similarities:')\n",
        "word_list = ['lipstick', 'guns', 'science', 'arts', 'literature', 'warrior','doctor', 'tree', 'receptionist',\n",
        "             'technology',  'fashion', 'teacher', 'engineer', 'pilot', 'computer', 'singer']\n",
        "for w in word_list:\n",
        "    print (w, cosine_similarity(word_to_vec_map[w], g))"
      ]
    },
    {
      "cell_type": "markdown",
      "metadata": {
        "id": "uQy4PyoaJTcE"
      },
      "source": [
        "Do you notice anything surprising? It is astonishing how these results reflect certain unhealthy gender stereotypes. For example, \"computer\" is closer to \"man\" while \"literature\" is closer to \"woman\". Ouch!\n",
        "\n",
        "We'll see below how to reduce the bias of these vectors, using an algorithm due to [Boliukbasi et al., 2016](https://arxiv.org/abs/1607.06520). Note that some word pairs such as \"actor\"/\"actress\" or \"grandmother\"/\"grandfather\" should remain gender specific, while other words such as \"receptionist\" or \"technology\" should be neutralized, i.e. not be gender-related. You will have to treat these two type of words differently when debiasing.\n",
        "\n",
        "### 3.1 - Neutralize bias for non-gender specific words\n",
        "\n",
        "The figure below should help you visualize what neutralizing does. If you're using a 50-dimensional word embedding, the 50 dimensional space can be split into two parts: The bias-direction $g$, and the remaining 49 dimensions, which we'll call $g_{\\perp}$. In linear algebra, we say that the 49 dimensional $g_{\\perp}$ is perpendicular (or \"orthogonal\") to $g$, meaning it is at 90 degrees to $g$. The neutralization step takes a vector such as $e_{receptionist}$ and zeros out the component in the direction of $g$, giving us $e_{receptionist}^{debiased}$.\n",
        "\n",
        "Even though $g_{\\perp}$ is 49 dimensional, given the limitations of what we can draw on a screen, we illustrate it using a 1 dimensional axis below.\n",
        "\n",
        "<img src=\"https://github.com/Gurubux/DL_Coursera/blob/master/5_Sequence_Models/5_2_NLP_and_WordEmbedding/images/neutral.png?raw=1\" style=\"width:800px;height:300px;\">\n",
        "<caption><center> **Figure 2**: The word vector for \"receptionist\" represented before and after applying the neutralize operation. </center></caption>\n",
        "\n",
        "**Exercise**: Implement `neutralize()` to remove the bias of words such as \"receptionist\" or \"scientist\". Given an input embedding $e$, you can use the following formulas to compute $e^{debiased}$:\n",
        "\n",
        "$$e^{bias\\_component} = \\frac{e \\cdot g}{||g||_2^2} * g\\tag{2}$$\n",
        "$$e^{debiased} = e - e^{bias\\_component}\\tag{3}$$\n",
        "\n",
        "If you are an expert in linear algebra, you may recognize $e^{bias\\_component}$ as the projection of $e$ onto the direction $g$. If you're not an expert in linear algebra, don't worry about this.\n",
        "\n",
        "<!--\n",
        "**Reminder**: a vector $u$ can be split into two parts: its projection over a vector-axis $v_B$ and its projection over the axis orthogonal to $v$:\n",
        "$$u = u_B + u_{\\perp}$$\n",
        "where : $u_B = $ and $ u_{\\perp} = u - u_B $\n",
        "!-->"
      ]
    },
    {
      "cell_type": "code",
      "execution_count": 27,
      "metadata": {
        "collapsed": true,
        "id": "U7l79OeBJTcF"
      },
      "outputs": [],
      "source": [
        "def neutralize(word, g, word_to_vec_map):\n",
        "    \"\"\"\n",
        "    Removes the bias of \"word\" by projecting it on the space orthogonal to the bias axis.\n",
        "    This function ensures that gender neutral words are zero in the gender subspace.\n",
        "\n",
        "    Arguments:\n",
        "        word -- string indicating the word to debias\n",
        "        g -- numpy-array of shape (50,), corresponding to the bias axis (such as gender)\n",
        "        word_to_vec_map -- dictionary mapping words to their corresponding vectors.\n",
        "\n",
        "    Returns:\n",
        "        e_debiased -- neutralized word vector representation of the input \"word\"\n",
        "    \"\"\"\n",
        "\n",
        "    ### START CODE HERE ###\n",
        "    # Select word vector representation of \"word\". Use word_to_vec_map. (≈ 1 line)\n",
        "    e = word_to_vec_map[word]\n",
        "    # Compute e_biascomponent using the formula give above. (≈ 1 line)\n",
        "    e_debiased = (np.dot(e, g) / np.linalg.norm(g)**2) * g\n",
        "    # Neutralize e by substracting e_biascomponent from it\n",
        "    # e_debiased should be equal to its orthogonal projection. (≈ 1 line)\n",
        "\n",
        "    ### END CODE HERE ###\n",
        "\n",
        "    return e_debiased"
      ]
    },
    {
      "cell_type": "code",
      "execution_count": 28,
      "metadata": {
        "id": "Qi0b0InlJTcF",
        "colab": {
          "base_uri": "https://localhost:8080/"
        },
        "outputId": "e93e5dd4-d98f-4681-9438-58ac9c70d061"
      },
      "outputs": [
        {
          "output_type": "stream",
          "name": "stdout",
          "text": [
            "cosine similarity between receptionist and g, before neutralizing:  0.3256916\n",
            "cosine similarity between receptionist and g, after neutralizing:  0.99999994\n"
          ]
        }
      ],
      "source": [
        "e = \"receptionist\"\n",
        "print(\"cosine similarity between \" + e + \" and g, before neutralizing: \", cosine_similarity(word_to_vec_map[\"receptionist\"], g))\n",
        "\n",
        "e_debiased = neutralize(\"receptionist\", g, word_to_vec_map)\n",
        "print(\"cosine similarity between \" + e + \" and g, after neutralizing: \", cosine_similarity(e_debiased, g))"
      ]
    },
    {
      "cell_type": "markdown",
      "metadata": {
        "id": "c_AK3MlOJTcF"
      },
      "source": [
        "**Expected Output**: The second result is essentially 0, up to numerical roundof (on the order of $10^{-17}$).\n",
        "\n",
        "\n",
        "<table>\n",
        "    <tr>\n",
        "        <td>\n",
        "            **cosine similarity between receptionist and g, before neutralizing:** :\n",
        "        </td>\n",
        "        <td>\n",
        "         0.330779417506\n",
        "        </td>\n",
        "    </tr>\n",
        "        <tr>\n",
        "        <td>\n",
        "            **cosine similarity between receptionist and g, after neutralizing:** :\n",
        "        </td>\n",
        "        <td>\n",
        "         -3.26732746085e-17\n",
        "    </tr>\n",
        "</table>"
      ]
    },
    {
      "cell_type": "markdown",
      "metadata": {
        "id": "k8qgjUJjJTcF"
      },
      "source": [
        "### 3.2 - Equalization algorithm for gender-specific words\n",
        "\n",
        "Next, lets see how debiasing can also be applied to word pairs such as \"actress\" and \"actor.\" Equalization is applied to pairs of words that you might want to have differ only through the gender property. As a concrete example, suppose that \"actress\" is closer to \"babysit\" than \"actor.\" By applying neutralizing to \"babysit\" we can reduce the gender-stereotype associated with babysitting. But this still does not guarantee that \"actor\" and \"actress\" are equidistant from \"babysit.\" The equalization algorithm takes care of this.\n",
        "\n",
        "The key idea behind equalization is to make sure that a particular pair of words are equi-distant from the 49-dimensional $g_\\perp$. The equalization step also ensures that the two equalized steps are now the same distance from $e_{receptionist}^{debiased}$, or from any other work that has been neutralized. In pictures, this is how equalization works:\n",
        "\n",
        "<img src=\"https://github.com/Gurubux/DL_Coursera/blob/master/5_Sequence_Models/5_2_NLP_and_WordEmbedding/images/equalize10.png?raw=1\" style=\"width:800px;height:400px;\">\n",
        "\n",
        "\n",
        "The derivation of the linear algebra to do this is a bit more complex. (See Bolukbasi et al., 2016 for details.) But the key equations are:\n",
        "\n",
        "$$ \\mu = \\frac{e_{w1} + e_{w2}}{2}\\tag{4}$$\n",
        "\n",
        "$$ \\mu_{B} = \\frac {\\mu \\cdot \\text{bias_axis}}{||\\text{bias_axis}||_2^2} *\\text{bias_axis}\n",
        "\\tag{5}$$\n",
        "\n",
        "$$\\mu_{\\perp} = \\mu - \\mu_{B} \\tag{6}$$\n",
        "\n",
        "$$ e_{w1B} = \\frac {e_{w1} \\cdot \\text{bias_axis}}{||\\text{bias_axis}||_2^2} *\\text{bias_axis}\n",
        "\\tag{7}$$\n",
        "$$ e_{w2B} = \\frac {e_{w2} \\cdot \\text{bias_axis}}{||\\text{bias_axis}||_2^2} *\\text{bias_axis}\n",
        "\\tag{8}$$\n",
        "\n",
        "\n",
        "$$e_{w1B}^{corrected} = \\sqrt{ |{1 - ||\\mu_{\\perp} ||^2_2} |} * \\frac{e_{\\text{w1B}} - \\mu_B} {||(e_{w1} - \\mu_{\\perp}) - \\mu_B||} \\tag{9}$$\n",
        "\n",
        "\n",
        "$$e_{w2B}^{corrected} = \\sqrt{ |{1 - ||\\mu_{\\perp} ||^2_2} |} * \\frac{e_{\\text{w2B}} - \\mu_B} {||(e_{w2} - \\mu_{\\perp}) - \\mu_B||} \\tag{10}$$\n",
        "\n",
        "$$e_1 = e_{w1B}^{corrected} + \\mu_{\\perp} \\tag{11}$$\n",
        "$$e_2 = e_{w2B}^{corrected} + \\mu_{\\perp} \\tag{12}$$\n",
        "\n",
        "\n",
        "**Exercise**: Implement the function below. Use the equations above to get the final equalized version of the pair of words. Good luck!"
      ]
    },
    {
      "cell_type": "code",
      "execution_count": 33,
      "metadata": {
        "collapsed": true,
        "id": "NeYBD-qtJTcG"
      },
      "outputs": [],
      "source": [
        "def equalize(pair, bias_axis, word_to_vec_map):\n",
        "    \"\"\"\n",
        "    Debias gender specific words by following the equalize method described in the figure above.\n",
        "\n",
        "    Arguments:\n",
        "    pair -- pair of strings of gender specific words to debias, e.g. (\"actress\", \"actor\")\n",
        "    bias_axis -- numpy-array of shape (50,), vector corresponding to the bias axis, e.g. gender\n",
        "    word_to_vec_map -- dictionary mapping words to their corresponding vectors\n",
        "\n",
        "    Returns\n",
        "    e_1 -- word vector corresponding to the first word\n",
        "    e_2 -- word vector corresponding to the second word\n",
        "    \"\"\"\n",
        "\n",
        "    ### START CODE HERE ###\n",
        "    # Step 1: Select word vector representation of \"word\". Use word_to_vec_map. (≈ 2 lines)\n",
        "    e_w1 = word_to_vec_map[pair[0]]\n",
        "    e_w2 = word_to_vec_map[pair[1]]\n",
        "\n",
        "\n",
        "    # Step 2: Compute the mean of e_w1 and e_w2 (≈ 1 line)\n",
        "    mu = (e_w1 + e_w2) / 2\n",
        "\n",
        "\n",
        "    # Step 3: Compute the projections of mu over the bias axis and the orthogonal axis (≈ 2 lines)\n",
        "    mu_B = (np.dot(mu, bias_axis) / np.linalg.norm(bias_axis)**2) * bias_axis  # equation 5\n",
        "    mu_perp = mu - mu_B\n",
        "\n",
        "\n",
        "    # Step 4: Use equations (7) and (8) to compute e_w1B and e_w2B (≈2 lines)\n",
        "    e_w1B = (np.dot(e_w1, bias_axis) / np.linalg.norm(bias_axis)**2) * bias_axis\n",
        "    e_w2B = (np.dot(e_w2, bias_axis) / np.linalg.norm(bias_axis)**2) * bias_axis\n",
        "\n",
        "\n",
        "\n",
        "    # Step 5: Adjust the Bias part of e_w1B and e_w2B using the formulas (9) and (10) given above (≈2 lines)\n",
        "    corrected_w1B = np.sqrt(np.abs(1 - np.linalg.norm(mu_perp)**2)) * \\\n",
        "                   (e_w1B - mu_B) / np.linalg.norm((e_w1 - mu_perp) - mu_B)\n",
        "    corrected_w2B = np.sqrt(np.abs(1 - np.linalg.norm(mu_perp)**2)) * \\\n",
        "                   (e_w2B - mu_B) / np.linalg.norm((e_w2 - mu_perp) - mu_B)\n",
        "\n",
        "\n",
        "\n",
        "    # Step 6: Debias by equalizing e1 and e2 to the sum of their corrected projections (≈2 lines)\n",
        "    e1 = corrected_w1B + mu_perp\n",
        "    e2 = corrected_w2B + mu_perp\n",
        "\n",
        "\n",
        "    ### END CODE HERE ###\n",
        "\n",
        "    return e1, e2"
      ]
    },
    {
      "cell_type": "code",
      "execution_count": 34,
      "metadata": {
        "scrolled": true,
        "id": "MIKIevERJTcH",
        "colab": {
          "base_uri": "https://localhost:8080/"
        },
        "outputId": "95eea14a-2dc5-4541-eac5-7ab59d9dfc5e"
      },
      "outputs": [
        {
          "output_type": "stream",
          "name": "stdout",
          "text": [
            "cosine similarities before equalizing:\n",
            "cosine_similarity(word_to_vec_map[\"man\"], gender) =  -0.15934695\n",
            "cosine_similarity(word_to_vec_map[\"woman\"], gender) =  0.51203084\n",
            "\n",
            "cosine similarities after equalizing:\n",
            "cosine_similarity(e1, gender) =  -0.66846603\n",
            "cosine_similarity(e2, gender) =  0.66846603\n"
          ]
        }
      ],
      "source": [
        "print(\"cosine similarities before equalizing:\")\n",
        "print(\"cosine_similarity(word_to_vec_map[\\\"man\\\"], gender) = \", cosine_similarity(word_to_vec_map[\"man\"], g))\n",
        "print(\"cosine_similarity(word_to_vec_map[\\\"woman\\\"], gender) = \", cosine_similarity(word_to_vec_map[\"woman\"], g))\n",
        "print()\n",
        "e1, e2 = equalize((\"man\", \"woman\"), g, word_to_vec_map)\n",
        "print(\"cosine similarities after equalizing:\")\n",
        "print(\"cosine_similarity(e1, gender) = \", cosine_similarity(e1, g))\n",
        "print(\"cosine_similarity(e2, gender) = \", cosine_similarity(e2, g))"
      ]
    },
    {
      "cell_type": "markdown",
      "metadata": {
        "id": "HwUMyQdsJTcH"
      },
      "source": [
        "**Expected Output**:\n",
        "\n",
        "cosine similarities before equalizing:\n",
        "<table>\n",
        "    <tr>\n",
        "        <td>\n",
        "            **cosine_similarity(word_to_vec_map[\"man\"], gender)** =\n",
        "        </td>\n",
        "        <td>\n",
        "         -0.117110957653\n",
        "        </td>\n",
        "    </tr>\n",
        "        <tr>\n",
        "        <td>\n",
        "            **cosine_similarity(word_to_vec_map[\"woman\"], gender)** =\n",
        "        </td>\n",
        "        <td>\n",
        "         0.356666188463\n",
        "        </td>\n",
        "    </tr>\n",
        "</table>\n",
        "\n",
        "cosine similarities after equalizing:\n",
        "<table>\n",
        "    <tr>\n",
        "        <td>\n",
        "            **cosine_similarity(u1, gender)** =\n",
        "        </td>\n",
        "        <td>\n",
        "         -0.700436428931\n",
        "        </td>\n",
        "    </tr>\n",
        "        <tr>\n",
        "        <td>\n",
        "            **cosine_similarity(u2, gender)** =\n",
        "        </td>\n",
        "        <td>\n",
        "         0.700436428931\n",
        "        </td>\n",
        "    </tr>\n",
        "</table>"
      ]
    },
    {
      "cell_type": "markdown",
      "metadata": {
        "collapsed": true,
        "id": "W3JsiQUQJTcH"
      },
      "source": [
        "Please feel free to play with the input words in the cell above, to apply equalization to other pairs of words.\n",
        "\n",
        "These debiasing algorithms are very helpful for reducing bias, but are not perfect and do not eliminate all traces of bias. For example, one weakness of this implementation was that the bias direction $g$ was defined using only the pair of words _woman_ and _man_. As discussed earlier, if $g$ were defined by computing $g_1 = e_{woman} - e_{man}$; $g_2 = e_{mother} - e_{father}$; $g_3 = e_{girl} - e_{boy}$; and so on and averaging over them, you would obtain a better estimate of the \"gender\" dimension in the 50 dimensional word embedding space. Feel free to play with such variants as well.  \n",
        "                     "
      ]
    },
    {
      "cell_type": "markdown",
      "metadata": {
        "id": "MvUFsoxfJTcH"
      },
      "source": [
        "### Congratulations\n",
        "\n",
        "You have come to the end of this notebook, and have seen a lot of the ways that word vectors can be used as well as  modified.\n",
        "\n",
        "Congratulations on finishing this notebook!\n"
      ]
    },
    {
      "cell_type": "markdown",
      "metadata": {
        "id": "IJiaQn7sJTcH"
      },
      "source": [
        "**References**:\n",
        "- The debiasing algorithm is from Bolukbasi et al., 2016, [Man is to Computer Programmer as Woman is to\n",
        "Homemaker? Debiasing Word Embeddings](https://papers.nips.cc/paper/6228-man-is-to-computer-programmer-as-woman-is-to-homemaker-debiasing-word-embeddings.pdf)\n",
        "- The GloVe word embeddings were due to Jeffrey Pennington, Richard Socher, and Christopher D. Manning. (https://nlp.stanford.edu/projects/glove/)\n"
      ]
    }
  ],
  "metadata": {
    "coursera": {
      "course_slug": "nlp-sequence-models",
      "graded_item_id": "8hb5s",
      "launcher_item_id": "5NrJ6"
    },
    "kernelspec": {
      "display_name": "Python 3",
      "name": "python3"
    },
    "language_info": {
      "codemirror_mode": {
        "name": "ipython",
        "version": 3
      },
      "file_extension": ".py",
      "mimetype": "text/x-python",
      "name": "python",
      "nbconvert_exporter": "python",
      "pygments_lexer": "ipython3",
      "version": "3.6.0"
    },
    "colab": {
      "provenance": [],
      "gpuType": "T4"
    },
    "accelerator": "GPU"
  },
  "nbformat": 4,
  "nbformat_minor": 0
}