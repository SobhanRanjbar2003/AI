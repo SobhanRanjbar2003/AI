{
  "cells": [
    {
      "cell_type": "markdown",
      "metadata": {
        "id": "Qej_7d3w8YLs"
      },
      "source": [
        "## Importing Required Libraries"
      ]
    },
    {
      "cell_type": "code",
      "source": [
        "# !pip install gensim"
      ],
      "metadata": {
        "id": "WB4GbuZSbQDf"
      },
      "execution_count": 4,
      "outputs": []
    },
    {
      "cell_type": "code",
      "execution_count": 5,
      "metadata": {
        "id": "_RiGPH178Vly"
      },
      "outputs": [],
      "source": [
        "import numpy as np\n",
        "import gensim\n",
        "import gensim.downloader as api\n",
        "from gensim.models import Word2Vec\n",
        "from gensim.models.word2vec import Text8Corpus\n",
        "from IPython.display import display, Markdown\n",
        "from sklearn.decomposition import PCA\n",
        "import matplotlib.pyplot as plt"
      ]
    },
    {
      "cell_type": "markdown",
      "metadata": {
        "id": "w_SEJi7Z-q6S"
      },
      "source": [
        "## Load the Text8 Dataset\n",
        "The **Text8 dataset** is a large-scale dataset extracted from Wikipedia, often used for training word embeddings.  \n",
        "It consists of approximately 17 million words in a single text file, formatted as a sequence of words without punctuation.\n",
        "\n",
        "In this step, you will:\n",
        "1. **Download the Text8 dataset** using Gensim's downloader.\n",
        "2. **Convert it to a list named text8_corpus** to use it for training."
      ]
    },
    {
      "cell_type": "code",
      "execution_count": 6,
      "metadata": {
        "id": "tDfqKSux-MaW",
        "colab": {
          "base_uri": "https://localhost:8080/"
        },
        "outputId": "6d3e18ff-e3d5-4070-8031-8e6111f6b670"
      },
      "outputs": [
        {
          "output_type": "stream",
          "name": "stdout",
          "text": [
            "[==================================================] 100.0% 31.6/31.6MB downloaded\n"
          ]
        }
      ],
      "source": [
        "# Your Code Here\n",
        "import gensim.downloader as api\n",
        "corpus = api.load('text8')\n",
        "#text8_corpus = np.array([str(word) for sentence in list(corpus) for word in sentence])\n",
        "#text8_corpus = [str(word) for sentence in list(corpus) for word in sentence]"
      ]
    },
    {
      "cell_type": "code",
      "execution_count": 7,
      "metadata": {
        "id": "-LHbDbSAOZEV"
      },
      "outputs": [],
      "source": [
        "text8_corpus = [sentence for sentence in list(corpus)]"
      ]
    },
    {
      "cell_type": "code",
      "execution_count": 8,
      "metadata": {
        "id": "U-dtOQ8iOfQN"
      },
      "outputs": [],
      "source": [
        "# text8_corpus[:1]"
      ]
    },
    {
      "cell_type": "code",
      "execution_count": 9,
      "metadata": {
        "colab": {
          "base_uri": "https://localhost:8080/"
        },
        "id": "buFeZoLrVWAG",
        "outputId": "9bda3889-1d6a-4e01-8b9f-b5d9c64fb0e5"
      },
      "outputs": [
        {
          "output_type": "execute_result",
          "data": {
            "text/plain": [
              "1701"
            ]
          },
          "metadata": {},
          "execution_count": 9
        }
      ],
      "source": [
        "len(text8_corpus)"
      ]
    },
    {
      "cell_type": "code",
      "execution_count": 10,
      "metadata": {
        "id": "_NWPXG92gV0w"
      },
      "outputs": [],
      "source": [
        "# for item in text8_corpus[:1]:\n",
        "#     print(type(item))"
      ]
    },
    {
      "cell_type": "markdown",
      "metadata": {
        "id": "pt176_i3_WyJ"
      },
      "source": [
        "## Train a Word2Vec Model in CBOW Mode\n",
        "\n",
        "In this step, you will initialize a Word2Vec model and train it using a specific architecture.  \n",
        "The model will learn word representations based on a **context-predicting approach**, where surrounding words help predict the target word.  \n",
        "\n",
        "Consider the impact of different parameters such as:\n",
        "- The size of the word representations(e.g., 300 dimensions).\n",
        "- The number of neighboring words considered(e.g., 5 neighbors).\n",
        "- The minimum occurrences required for a word to be included in the vocabulary(e.g., 5 occurrences).\n",
        "- The number of CPU cores used for training(e.g., 4 cores).\n",
        "\n",
        "Run the code below to train the model for **one epoch**.\n"
      ]
    },
    {
      "cell_type": "code",
      "execution_count": 11,
      "metadata": {
        "id": "S7Z8I_EW_WRx"
      },
      "outputs": [],
      "source": [
        "# Your Code Here\n",
        "model = Word2Vec(sentences=text8_corpus, vector_size=300, window=5, min_count=5, workers=4, sg=0)"
      ]
    },
    {
      "cell_type": "markdown",
      "metadata": {
        "id": "uQcJaSCoAxB3"
      },
      "source": [
        "## Example Words\n",
        "We select a few words of interest."
      ]
    },
    {
      "cell_type": "code",
      "execution_count": 12,
      "metadata": {
        "id": "MF7B3TZkApV3"
      },
      "outputs": [],
      "source": [
        "words = [\"king\", \"queen\", \"man\", \"woman\", \"car\", \"bus\"]"
      ]
    },
    {
      "cell_type": "markdown",
      "metadata": {
        "id": "rNGQ0iWqBLnk"
      },
      "source": [
        "## Compare Word Similarities\n",
        "\n",
        "After training the Word2Vec model, we can analyze how well it captures relationships between words.  \n",
        "In this step, we:\n",
        "- Find the **top 5 most similar words** for each based on cosine similarity.\n",
        "- Display the results in a structured format.\n",
        "\n",
        "Words with high similarity scores are expected to have similar meanings or occur in similar contexts.  \n",
        "If a word is **not found in the vocabulary**, it means it didn’t meet the minimum occurrence threshold during training.\n"
      ]
    },
    {
      "cell_type": "code",
      "execution_count": 13,
      "metadata": {
        "colab": {
          "base_uri": "https://localhost:8080/",
          "height": 864
        },
        "id": "MJY8WIl1BIEr",
        "outputId": "9064f1ce-f738-428e-c007-879efa79aacd"
      },
      "outputs": [
        {
          "output_type": "display_data",
          "data": {
            "text/plain": [
              "<IPython.core.display.Markdown object>"
            ],
            "text/markdown": "**king:**"
          },
          "metadata": {}
        },
        {
          "output_type": "display_data",
          "data": {
            "text/plain": [
              "<IPython.core.display.Markdown object>"
            ],
            "text/markdown": "- prince: 0.6759"
          },
          "metadata": {}
        },
        {
          "output_type": "display_data",
          "data": {
            "text/plain": [
              "<IPython.core.display.Markdown object>"
            ],
            "text/markdown": "- throne: 0.6441"
          },
          "metadata": {}
        },
        {
          "output_type": "display_data",
          "data": {
            "text/plain": [
              "<IPython.core.display.Markdown object>"
            ],
            "text/markdown": "- kings: 0.6417"
          },
          "metadata": {}
        },
        {
          "output_type": "display_data",
          "data": {
            "text/plain": [
              "<IPython.core.display.Markdown object>"
            ],
            "text/markdown": "- queen: 0.6297"
          },
          "metadata": {}
        },
        {
          "output_type": "display_data",
          "data": {
            "text/plain": [
              "<IPython.core.display.Markdown object>"
            ],
            "text/markdown": "- emperor: 0.6185"
          },
          "metadata": {}
        },
        {
          "output_type": "display_data",
          "data": {
            "text/plain": [
              "<IPython.core.display.Markdown object>"
            ],
            "text/markdown": "**queen:**"
          },
          "metadata": {}
        },
        {
          "output_type": "display_data",
          "data": {
            "text/plain": [
              "<IPython.core.display.Markdown object>"
            ],
            "text/markdown": "- elizabeth: 0.7476"
          },
          "metadata": {}
        },
        {
          "output_type": "display_data",
          "data": {
            "text/plain": [
              "<IPython.core.display.Markdown object>"
            ],
            "text/markdown": "- princess: 0.7293"
          },
          "metadata": {}
        },
        {
          "output_type": "display_data",
          "data": {
            "text/plain": [
              "<IPython.core.display.Markdown object>"
            ],
            "text/markdown": "- prince: 0.6834"
          },
          "metadata": {}
        },
        {
          "output_type": "display_data",
          "data": {
            "text/plain": [
              "<IPython.core.display.Markdown object>"
            ],
            "text/markdown": "- mary: 0.6437"
          },
          "metadata": {}
        },
        {
          "output_type": "display_data",
          "data": {
            "text/plain": [
              "<IPython.core.display.Markdown object>"
            ],
            "text/markdown": "- consort: 0.6410"
          },
          "metadata": {}
        },
        {
          "output_type": "display_data",
          "data": {
            "text/plain": [
              "<IPython.core.display.Markdown object>"
            ],
            "text/markdown": "**man:**"
          },
          "metadata": {}
        },
        {
          "output_type": "display_data",
          "data": {
            "text/plain": [
              "<IPython.core.display.Markdown object>"
            ],
            "text/markdown": "- woman: 0.6710"
          },
          "metadata": {}
        },
        {
          "output_type": "display_data",
          "data": {
            "text/plain": [
              "<IPython.core.display.Markdown object>"
            ],
            "text/markdown": "- girl: 0.5706"
          },
          "metadata": {}
        },
        {
          "output_type": "display_data",
          "data": {
            "text/plain": [
              "<IPython.core.display.Markdown object>"
            ],
            "text/markdown": "- creature: 0.5471"
          },
          "metadata": {}
        },
        {
          "output_type": "display_data",
          "data": {
            "text/plain": [
              "<IPython.core.display.Markdown object>"
            ],
            "text/markdown": "- person: 0.5220"
          },
          "metadata": {}
        },
        {
          "output_type": "display_data",
          "data": {
            "text/plain": [
              "<IPython.core.display.Markdown object>"
            ],
            "text/markdown": "- boy: 0.5059"
          },
          "metadata": {}
        },
        {
          "output_type": "display_data",
          "data": {
            "text/plain": [
              "<IPython.core.display.Markdown object>"
            ],
            "text/markdown": "**woman:**"
          },
          "metadata": {}
        },
        {
          "output_type": "display_data",
          "data": {
            "text/plain": [
              "<IPython.core.display.Markdown object>"
            ],
            "text/markdown": "- girl: 0.7377"
          },
          "metadata": {}
        },
        {
          "output_type": "display_data",
          "data": {
            "text/plain": [
              "<IPython.core.display.Markdown object>"
            ],
            "text/markdown": "- child: 0.7133"
          },
          "metadata": {}
        },
        {
          "output_type": "display_data",
          "data": {
            "text/plain": [
              "<IPython.core.display.Markdown object>"
            ],
            "text/markdown": "- man: 0.6710"
          },
          "metadata": {}
        },
        {
          "output_type": "display_data",
          "data": {
            "text/plain": [
              "<IPython.core.display.Markdown object>"
            ],
            "text/markdown": "- lady: 0.6552"
          },
          "metadata": {}
        },
        {
          "output_type": "display_data",
          "data": {
            "text/plain": [
              "<IPython.core.display.Markdown object>"
            ],
            "text/markdown": "- herself: 0.6416"
          },
          "metadata": {}
        },
        {
          "output_type": "display_data",
          "data": {
            "text/plain": [
              "<IPython.core.display.Markdown object>"
            ],
            "text/markdown": "**car:**"
          },
          "metadata": {}
        },
        {
          "output_type": "display_data",
          "data": {
            "text/plain": [
              "<IPython.core.display.Markdown object>"
            ],
            "text/markdown": "- driver: 0.7833"
          },
          "metadata": {}
        },
        {
          "output_type": "display_data",
          "data": {
            "text/plain": [
              "<IPython.core.display.Markdown object>"
            ],
            "text/markdown": "- cars: 0.7158"
          },
          "metadata": {}
        },
        {
          "output_type": "display_data",
          "data": {
            "text/plain": [
              "<IPython.core.display.Markdown object>"
            ],
            "text/markdown": "- motorcycle: 0.6990"
          },
          "metadata": {}
        },
        {
          "output_type": "display_data",
          "data": {
            "text/plain": [
              "<IPython.core.display.Markdown object>"
            ],
            "text/markdown": "- truck: 0.6674"
          },
          "metadata": {}
        },
        {
          "output_type": "display_data",
          "data": {
            "text/plain": [
              "<IPython.core.display.Markdown object>"
            ],
            "text/markdown": "- taxi: 0.6629"
          },
          "metadata": {}
        },
        {
          "output_type": "display_data",
          "data": {
            "text/plain": [
              "<IPython.core.display.Markdown object>"
            ],
            "text/markdown": "**bus:**"
          },
          "metadata": {}
        },
        {
          "output_type": "display_data",
          "data": {
            "text/plain": [
              "<IPython.core.display.Markdown object>"
            ],
            "text/markdown": "- tram: 0.8020"
          },
          "metadata": {}
        },
        {
          "output_type": "display_data",
          "data": {
            "text/plain": [
              "<IPython.core.display.Markdown object>"
            ],
            "text/markdown": "- commuter: 0.7767"
          },
          "metadata": {}
        },
        {
          "output_type": "display_data",
          "data": {
            "text/plain": [
              "<IPython.core.display.Markdown object>"
            ],
            "text/markdown": "- rail: 0.7741"
          },
          "metadata": {}
        },
        {
          "output_type": "display_data",
          "data": {
            "text/plain": [
              "<IPython.core.display.Markdown object>"
            ],
            "text/markdown": "- buses: 0.7737"
          },
          "metadata": {}
        },
        {
          "output_type": "display_data",
          "data": {
            "text/plain": [
              "<IPython.core.display.Markdown object>"
            ],
            "text/markdown": "- intercity: 0.7472"
          },
          "metadata": {}
        }
      ],
      "source": [
        "for word in words:\n",
        "    if word in model.wv.key_to_index:\n",
        "        vector = model.wv[word]\n",
        "        similar_words = model.wv.most_similar(word,topn=5)\n",
        "        display(Markdown(f\"**{word}:**\"))\n",
        "        for w, score in similar_words:\n",
        "            display(Markdown(f\"- {w}: {score:.4f}\"))\n",
        "    else:\n",
        "        display(Markdown(f\"{word} not in vocabulary.\"))"
      ]
    },
    {
      "cell_type": "markdown",
      "metadata": {
        "id": "7UKf4_dFDQmh"
      },
      "source": [
        "## Visualizing Word Embeddings\n",
        "\n",
        "Word embeddings are high-dimensional vectors, making them difficult to interpret directly.  \n",
        "To visualize them, we use **Principal Component Analysis (PCA)** to reduce their dimensionality from 300 to 2.\n",
        "\n",
        "### Steps:\n",
        "1. Extract word vectors for selected words.\n",
        "2. Apply **PCA** to reduce dimensionality from 300 to 2.\n",
        "3. Plot the words in a 2D space.\n",
        "\n",
        "Words that appear in similar contexts should be **closer together** in the plot.\n"
      ]
    },
    {
      "cell_type": "code",
      "execution_count": 14,
      "metadata": {
        "colab": {
          "base_uri": "https://localhost:8080/",
          "height": 545
        },
        "id": "5JxfpH5jA3-4",
        "outputId": "b0cc43c6-efc0-44cd-ab3f-32dd6093d985"
      },
      "outputs": [
        {
          "output_type": "display_data",
          "data": {
            "text/plain": [
              "<Figure size 800x600 with 1 Axes>"
            ],
            "image/png": "[encoded data removed]"
          },
          "metadata": {}
        }
      ],
      "source": [
        "vectors = model.wv[model.wv.index_to_key]\n",
        "pca = PCA(n_components=2)\n",
        "result = pca.fit_transform(vectors)\n",
        "plt.figure(figsize=(8,6))\n",
        "plt.scatter(result[:, 0], result[:, 1])\n",
        "for i, word in enumerate(words):\n",
        "    plt.annotate(word, xy=(result[i, 0], result[i, 1]), fontsize=12)\n",
        "\n",
        "plt.title(\"Fine-Tuned Word Embeddings Visualization using CBOW\")\n",
        "plt.show()"
      ]
    },
    {
      "cell_type": "markdown",
      "metadata": {
        "id": "4r2wugcyEWwM"
      },
      "source": [
        "## Training Word2Vec with Skip-gram\n",
        "\n",
        "Now, we will train another Word2Vec model using a different architecture called **Skip-gram**.  \n",
        "Unlike the previous CBOW approach, Skip-gram learns to predict **context words** given a target word, making it more effective for learning representations of rare words.\n",
        "\n",
        "Repeat the previous steps:\n",
        "1. Initialize a new Word2Vec model with a different training mode.\n",
        "2. Train it using the **Text8 dataset** for one epoch.\n"
      ]
    },
    {
      "cell_type": "code",
      "execution_count": 15,
      "metadata": {
        "id": "gc_1RwDtEZp2"
      },
      "outputs": [],
      "source": [
        "# Your Code Here\n",
        "model = Word2Vec(sentences=text8_corpus, vector_size=300, window=5, min_count=5, workers=4, sg=1)"
      ]
    },
    {
      "cell_type": "markdown",
      "metadata": {
        "id": "0lSQp9c_EcLE"
      },
      "source": [
        "## Compare Word Similarities (Skip-gram)\n",
        "Now, we repeat the similarity comparison, but this time using the **Skip-gram** model.\n",
        "\n",
        "- Skip-gram focuses on predicting surrounding words given a target word.\n",
        "- It is better suited for smaller datasets and learns high-quality embeddings, especially for infrequent words.\n",
        "- Here, we retrieve and display the most similar words for a given set of words.\n"
      ]
    },
    {
      "cell_type": "code",
      "execution_count": 16,
      "metadata": {
        "colab": {
          "base_uri": "https://localhost:8080/",
          "height": 864
        },
        "id": "NyAwow1-FG16",
        "outputId": "a3ff3181-ea4f-4184-b1f5-c19dbcdf0a34"
      },
      "outputs": [
        {
          "output_type": "display_data",
          "data": {
            "text/plain": [
              "<IPython.core.display.Markdown object>"
            ],
            "text/markdown": "**king:**"
          },
          "metadata": {}
        },
        {
          "output_type": "display_data",
          "data": {
            "text/plain": [
              "<IPython.core.display.Markdown object>"
            ],
            "text/markdown": "- kings: 0.5928"
          },
          "metadata": {}
        },
        {
          "output_type": "display_data",
          "data": {
            "text/plain": [
              "<IPython.core.display.Markdown object>"
            ],
            "text/markdown": "- canute: 0.5817"
          },
          "metadata": {}
        },
        {
          "output_type": "display_data",
          "data": {
            "text/plain": [
              "<IPython.core.display.Markdown object>"
            ],
            "text/markdown": "- haakon: 0.5768"
          },
          "metadata": {}
        },
        {
          "output_type": "display_data",
          "data": {
            "text/plain": [
              "<IPython.core.display.Markdown object>"
            ],
            "text/markdown": "- queen: 0.5680"
          },
          "metadata": {}
        },
        {
          "output_type": "display_data",
          "data": {
            "text/plain": [
              "<IPython.core.display.Markdown object>"
            ],
            "text/markdown": "- valdemar: 0.5509"
          },
          "metadata": {}
        },
        {
          "output_type": "display_data",
          "data": {
            "text/plain": [
              "<IPython.core.display.Markdown object>"
            ],
            "text/markdown": "**queen:**"
          },
          "metadata": {}
        },
        {
          "output_type": "display_data",
          "data": {
            "text/plain": [
              "<IPython.core.display.Markdown object>"
            ],
            "text/markdown": "- elizabeth: 0.6413"
          },
          "metadata": {}
        },
        {
          "output_type": "display_data",
          "data": {
            "text/plain": [
              "<IPython.core.display.Markdown object>"
            ],
            "text/markdown": "- margrethe: 0.6059"
          },
          "metadata": {}
        },
        {
          "output_type": "display_data",
          "data": {
            "text/plain": [
              "<IPython.core.display.Markdown object>"
            ],
            "text/markdown": "- consort: 0.6046"
          },
          "metadata": {}
        },
        {
          "output_type": "display_data",
          "data": {
            "text/plain": [
              "<IPython.core.display.Markdown object>"
            ],
            "text/markdown": "- hrh: 0.5756"
          },
          "metadata": {}
        },
        {
          "output_type": "display_data",
          "data": {
            "text/plain": [
              "<IPython.core.display.Markdown object>"
            ],
            "text/markdown": "- princess: 0.5728"
          },
          "metadata": {}
        },
        {
          "output_type": "display_data",
          "data": {
            "text/plain": [
              "<IPython.core.display.Markdown object>"
            ],
            "text/markdown": "**man:**"
          },
          "metadata": {}
        },
        {
          "output_type": "display_data",
          "data": {
            "text/plain": [
              "<IPython.core.display.Markdown object>"
            ],
            "text/markdown": "- woman: 0.5216"
          },
          "metadata": {}
        },
        {
          "output_type": "display_data",
          "data": {
            "text/plain": [
              "<IPython.core.display.Markdown object>"
            ],
            "text/markdown": "- vanity: 0.4742"
          },
          "metadata": {}
        },
        {
          "output_type": "display_data",
          "data": {
            "text/plain": [
              "<IPython.core.display.Markdown object>"
            ],
            "text/markdown": "- girl: 0.4602"
          },
          "metadata": {}
        },
        {
          "output_type": "display_data",
          "data": {
            "text/plain": [
              "<IPython.core.display.Markdown object>"
            ],
            "text/markdown": "- luckiest: 0.4576"
          },
          "metadata": {}
        },
        {
          "output_type": "display_data",
          "data": {
            "text/plain": [
              "<IPython.core.display.Markdown object>"
            ],
            "text/markdown": "- shaves: 0.4552"
          },
          "metadata": {}
        },
        {
          "output_type": "display_data",
          "data": {
            "text/plain": [
              "<IPython.core.display.Markdown object>"
            ],
            "text/markdown": "**woman:**"
          },
          "metadata": {}
        },
        {
          "output_type": "display_data",
          "data": {
            "text/plain": [
              "<IPython.core.display.Markdown object>"
            ],
            "text/markdown": "- girl: 0.5583"
          },
          "metadata": {}
        },
        {
          "output_type": "display_data",
          "data": {
            "text/plain": [
              "<IPython.core.display.Markdown object>"
            ],
            "text/markdown": "- prostitute: 0.5432"
          },
          "metadata": {}
        },
        {
          "output_type": "display_data",
          "data": {
            "text/plain": [
              "<IPython.core.display.Markdown object>"
            ],
            "text/markdown": "- herself: 0.5328"
          },
          "metadata": {}
        },
        {
          "output_type": "display_data",
          "data": {
            "text/plain": [
              "<IPython.core.display.Markdown object>"
            ],
            "text/markdown": "- man: 0.5216"
          },
          "metadata": {}
        },
        {
          "output_type": "display_data",
          "data": {
            "text/plain": [
              "<IPython.core.display.Markdown object>"
            ],
            "text/markdown": "- promiscuous: 0.5134"
          },
          "metadata": {}
        },
        {
          "output_type": "display_data",
          "data": {
            "text/plain": [
              "<IPython.core.display.Markdown object>"
            ],
            "text/markdown": "**car:**"
          },
          "metadata": {}
        },
        {
          "output_type": "display_data",
          "data": {
            "text/plain": [
              "<IPython.core.display.Markdown object>"
            ],
            "text/markdown": "- cars: 0.6814"
          },
          "metadata": {}
        },
        {
          "output_type": "display_data",
          "data": {
            "text/plain": [
              "<IPython.core.display.Markdown object>"
            ],
            "text/markdown": "- driver: 0.6251"
          },
          "metadata": {}
        },
        {
          "output_type": "display_data",
          "data": {
            "text/plain": [
              "<IPython.core.display.Markdown object>"
            ],
            "text/markdown": "- motorcycle: 0.6186"
          },
          "metadata": {}
        },
        {
          "output_type": "display_data",
          "data": {
            "text/plain": [
              "<IPython.core.display.Markdown object>"
            ],
            "text/markdown": "- automobile: 0.5938"
          },
          "metadata": {}
        },
        {
          "output_type": "display_data",
          "data": {
            "text/plain": [
              "<IPython.core.display.Markdown object>"
            ],
            "text/markdown": "- truck: 0.5897"
          },
          "metadata": {}
        },
        {
          "output_type": "display_data",
          "data": {
            "text/plain": [
              "<IPython.core.display.Markdown object>"
            ],
            "text/markdown": "**bus:**"
          },
          "metadata": {}
        },
        {
          "output_type": "display_data",
          "data": {
            "text/plain": [
              "<IPython.core.display.Markdown object>"
            ],
            "text/markdown": "- buses: 0.7123"
          },
          "metadata": {}
        },
        {
          "output_type": "display_data",
          "data": {
            "text/plain": [
              "<IPython.core.display.Markdown object>"
            ],
            "text/markdown": "- vesa: 0.6480"
          },
          "metadata": {}
        },
        {
          "output_type": "display_data",
          "data": {
            "text/plain": [
              "<IPython.core.display.Markdown object>"
            ],
            "text/markdown": "- tram: 0.6407"
          },
          "metadata": {}
        },
        {
          "output_type": "display_data",
          "data": {
            "text/plain": [
              "<IPython.core.display.Markdown object>"
            ],
            "text/markdown": "- pci: 0.6228"
          },
          "metadata": {}
        },
        {
          "output_type": "display_data",
          "data": {
            "text/plain": [
              "<IPython.core.display.Markdown object>"
            ],
            "text/markdown": "- trackless: 0.6183"
          },
          "metadata": {}
        }
      ],
      "source": [
        "for word in words:\n",
        "    if word in model.wv.key_to_index:\n",
        "        vector = model.wv[word]\n",
        "        similar_words = model.wv.most_similar(word,topn=5)\n",
        "        display(Markdown(f\"**{word}:**\"))\n",
        "        for w, score in similar_words:\n",
        "            display(Markdown(f\"- {w}: {score:.4f}\"))\n",
        "    else:\n",
        "        display(Markdown(f\"{word} not in vocabulary.\"))"
      ]
    },
    {
      "cell_type": "markdown",
      "metadata": {
        "id": "1_2AyIIeFR0W"
      },
      "source": [
        "## Visualizing Word Embeddings (Skip-gram)\n",
        "Now, we visualize the word embeddings obtained from the **Skip-gram** model."
      ]
    },
    {
      "cell_type": "code",
      "execution_count": 17,
      "metadata": {
        "colab": {
          "base_uri": "https://localhost:8080/",
          "height": 545
        },
        "id": "kz27vqbsFj8-",
        "outputId": "7ebf671a-e235-4f25-84a4-c8527de27a77"
      },
      "outputs": [
        {
          "output_type": "display_data",
          "data": {
            "text/plain": [
              "<Figure size 800x600 with 1 Axes>"
            ],
            "image/png": "[encoded data removed]"
          },
          "metadata": {}
        }
      ],
      "source": [
        "vectors = model.wv[model.wv.index_to_key]\n",
        "pca = PCA(n_components=2)\n",
        "result = pca.fit_transform(vectors)\n",
        "plt.figure(figsize=(8,6))\n",
        "plt.scatter(result[:, 0], result[:, 1])\n",
        "for i, word in enumerate(words):\n",
        "    plt.annotate(word, xy=(result[i, 0], result[i, 1]), fontsize=12)\n",
        "\n",
        "plt.title(\"Fine-Tuned Word Embeddings Visualization using CBOW\")\n",
        "plt.show()"
      ]
    }
  ],
  "metadata": {
    "colab": {
      "provenance": []
    },
    "kernelspec": {
      "display_name": "Python 3",
      "name": "python3"
    },
    "language_info": {
      "name": "python"
    }
  },
  "nbformat": 4,
  "nbformat_minor": 0
}