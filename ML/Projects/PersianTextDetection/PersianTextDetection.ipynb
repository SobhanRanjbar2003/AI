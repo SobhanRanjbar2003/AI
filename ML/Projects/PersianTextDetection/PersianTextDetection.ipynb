{
 "cells": [
  {
   "cell_type": "markdown",
   "metadata": {},
   "source": [
    "<h1 align=center style=\"line-height:100%;font-family:vazir;color:#0099cc\">\n",
    "<font face=\"vazir\" color=\"#eee\">\n",
    "تشخیص متن در تصویر \n",
    "(زبان فارسی)\n",
    "</font>\n",
    "</h1>"
   ]
  },
  {
   "cell_type": "code",
   "execution_count": 6,
   "metadata": {},
   "outputs": [
    {
     "name": "stdout",
     "output_type": "stream",
     "text": [
      "Collecting pytesseract\n",
      "  Downloading pytesseract-0.3.13-py3-none-any.whl.metadata (11 kB)\n",
      "Requirement already satisfied: packaging>=21.3 in c:\\users\\lenovo\\onedrive\\desktop\\rayan\\qenv\\lib\\site-packages (from pytesseract) (24.1)\n",
      "Requirement already satisfied: Pillow>=8.0.0 in c:\\users\\lenovo\\onedrive\\desktop\\rayan\\qenv\\lib\\site-packages (from pytesseract) (10.4.0)\n",
      "Downloading pytesseract-0.3.13-py3-none-any.whl (14 kB)\n",
      "Installing collected packages: pytesseract\n",
      "Successfully installed pytesseract-0.3.13\n",
      "Note: you may need to restart the kernel to use updated packages.\n"
     ]
    },
    {
     "name": "stderr",
     "output_type": "stream",
     "text": [
      "\n",
      "[notice] A new release of pip is available: 24.2 -> 24.3.1\n",
      "[notice] To update, run: python.exe -m pip install --upgrade pip\n"
     ]
    }
   ],
   "source": [
    "pip install pytesseract"
   ]
  },
  {
   "cell_type": "code",
   "execution_count": 7,
   "metadata": {},
   "outputs": [
    {
     "name": "stdout",
     "output_type": "stream",
     "text": [
      "Requirement already satisfied: easyocr in c:\\users\\lenovo\\onedrive\\desktop\\rayan\\qenv\\lib\\site-packages (1.7.2)\n",
      "Requirement already satisfied: torch in c:\\users\\lenovo\\onedrive\\desktop\\rayan\\qenv\\lib\\site-packages (from easyocr) (2.5.1)\n",
      "Requirement already satisfied: torchvision>=0.5 in c:\\users\\lenovo\\onedrive\\desktop\\rayan\\qenv\\lib\\site-packages (from easyocr) (0.20.1)\n",
      "Requirement already satisfied: opencv-python-headless in c:\\users\\lenovo\\onedrive\\desktop\\rayan\\qenv\\lib\\site-packages (from easyocr) (4.10.0.84)\n",
      "Requirement already satisfied: scipy in c:\\users\\lenovo\\onedrive\\desktop\\rayan\\qenv\\lib\\site-packages (from easyocr) (1.11.4)\n",
      "Requirement already satisfied: numpy in c:\\users\\lenovo\\onedrive\\desktop\\rayan\\qenv\\lib\\site-packages (from easyocr) (1.24.3)\n",
      "Requirement already satisfied: Pillow in c:\\users\\lenovo\\onedrive\\desktop\\rayan\\qenv\\lib\\site-packages (from easyocr) (10.4.0)\n",
      "Requirement already satisfied: scikit-image in c:\\users\\lenovo\\onedrive\\desktop\\rayan\\qenv\\lib\\site-packages (from easyocr) (0.24.0)\n",
      "Requirement already satisfied: python-bidi in c:\\users\\lenovo\\onedrive\\desktop\\rayan\\qenv\\lib\\site-packages (from easyocr) (0.4.2)\n",
      "Requirement already satisfied: PyYAML in c:\\users\\lenovo\\onedrive\\desktop\\rayan\\qenv\\lib\\site-packages (from easyocr) (6.0.1)\n",
      "Requirement already satisfied: Shapely in c:\\users\\lenovo\\onedrive\\desktop\\rayan\\qenv\\lib\\site-packages (from easyocr) (2.0.6)\n",
      "Requirement already satisfied: pyclipper in c:\\users\\lenovo\\onedrive\\desktop\\rayan\\qenv\\lib\\site-packages (from easyocr) (1.3.0.post6)\n",
      "Requirement already satisfied: ninja in c:\\users\\lenovo\\onedrive\\desktop\\rayan\\qenv\\lib\\site-packages (from easyocr) (1.11.1.2)\n",
      "Requirement already satisfied: filelock in c:\\users\\lenovo\\onedrive\\desktop\\rayan\\qenv\\lib\\site-packages (from torch->easyocr) (3.15.4)\n",
      "Requirement already satisfied: typing-extensions>=4.8.0 in c:\\users\\lenovo\\onedrive\\desktop\\rayan\\qenv\\lib\\site-packages (from torch->easyocr) (4.12.2)\n",
      "Requirement already satisfied: networkx in c:\\users\\lenovo\\onedrive\\desktop\\rayan\\qenv\\lib\\site-packages (from torch->easyocr) (3.4.2)\n",
      "Requirement already satisfied: jinja2 in c:\\users\\lenovo\\onedrive\\desktop\\rayan\\qenv\\lib\\site-packages (from torch->easyocr) (3.1.4)\n",
      "Requirement already satisfied: fsspec in c:\\users\\lenovo\\onedrive\\desktop\\rayan\\qenv\\lib\\site-packages (from torch->easyocr) (2024.10.0)\n",
      "Requirement already satisfied: sympy==1.13.1 in c:\\users\\lenovo\\onedrive\\desktop\\rayan\\qenv\\lib\\site-packages (from torch->easyocr) (1.13.1)\n",
      "Requirement already satisfied: mpmath<1.4,>=1.1.0 in c:\\users\\lenovo\\onedrive\\desktop\\rayan\\qenv\\lib\\site-packages (from sympy==1.13.1->torch->easyocr) (1.3.0)\n",
      "Requirement already satisfied: six in c:\\users\\lenovo\\onedrive\\desktop\\rayan\\qenv\\lib\\site-packages (from python-bidi->easyocr) (1.16.0)\n",
      "Requirement already satisfied: imageio>=2.33 in c:\\users\\lenovo\\onedrive\\desktop\\rayan\\qenv\\lib\\site-packages (from scikit-image->easyocr) (2.36.0)\n",
      "Requirement already satisfied: tifffile>=2022.8.12 in c:\\users\\lenovo\\onedrive\\desktop\\rayan\\qenv\\lib\\site-packages (from scikit-image->easyocr) (2024.9.20)\n",
      "Requirement already satisfied: packaging>=21 in c:\\users\\lenovo\\onedrive\\desktop\\rayan\\qenv\\lib\\site-packages (from scikit-image->easyocr) (24.1)\n",
      "Requirement already satisfied: lazy-loader>=0.4 in c:\\users\\lenovo\\onedrive\\desktop\\rayan\\qenv\\lib\\site-packages (from scikit-image->easyocr) (0.4)\n",
      "Requirement already satisfied: MarkupSafe>=2.0 in c:\\users\\lenovo\\onedrive\\desktop\\rayan\\qenv\\lib\\site-packages (from jinja2->torch->easyocr) (2.1.5)\n",
      "Note: you may need to restart the kernel to use updated packages.\n"
     ]
    },
    {
     "name": "stderr",
     "output_type": "stream",
     "text": [
      "\n",
      "[notice] A new release of pip is available: 24.2 -> 24.3.1\n",
      "[notice] To update, run: python.exe -m pip install --upgrade pip\n"
     ]
    }
   ],
   "source": [
    "pip install easyocr"
   ]
  },
  {
   "cell_type": "code",
   "execution_count": 10,
   "metadata": {},
   "outputs": [],
   "source": [
    "import pytesseract"
   ]
  },
  {
   "cell_type": "code",
   "execution_count": null,
   "metadata": {},
   "outputs": [],
   "source": []
  }
 ],
 "metadata": {
  "kernelspec": {
   "display_name": "qenv",
   "language": "python",
   "name": "qenv"
  },
  "language_info": {
   "codemirror_mode": {
    "name": "ipython",
    "version": 3
   },
   "file_extension": ".py",
   "mimetype": "text/x-python",
   "name": "python",
   "nbconvert_exporter": "python",
   "pygments_lexer": "ipython3",
   "version": "3.10.8"
  }
 },
 "nbformat": 4,
 "nbformat_minor": 2
}
